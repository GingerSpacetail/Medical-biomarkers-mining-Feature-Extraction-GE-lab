{
  "nbformat": 4,
  "nbformat_minor": 0,
  "metadata": {
    "colab": {
      "name": "Medical-biomarkers-mining-Feature-Extraction-GE-lab.ipynb",
      "provenance": [],
      "collapsed_sections": [],
      "include_colab_link": true
    },
    "kernelspec": {
      "display_name": "Python 3",
      "language": "python",
      "name": "python3"
    },
    "language_info": {
      "codemirror_mode": {
        "name": "ipython",
        "version": 3
      },
      "file_extension": ".py",
      "mimetype": "text/x-python",
      "name": "python",
      "nbconvert_exporter": "python",
      "pygments_lexer": "ipython3",
      "version": "3.7.6"
    }
  },
  "cells": [
    {
      "cell_type": "markdown",
      "metadata": {
        "id": "view-in-github",
        "colab_type": "text"
      },
      "source": [
        "<a href=\"https://colab.research.google.com/github/GingerSpacetail/Medical-biomarkers-mining-Feature-Extraction-GE-lab/blob/main/Medical_biomarkers_mining_Feature_Extraction_GE_lab.ipynb\" target=\"_parent\"><img src=\"https://colab.research.google.com/assets/colab-badge.svg\" alt=\"Open In Colab\"/></a>"
      ]
    },
    {
      "cell_type": "markdown",
      "metadata": {
        "id": "f-krE6cMYhv1"
      },
      "source": [
        "## Part1) Feature Extraction"
      ]
    },
    {
      "cell_type": "code",
      "metadata": {
        "colab": {
          "base_uri": "https://localhost:8080/"
        },
        "id": "zUkcKb6-ZJnT",
        "outputId": "11838a95-61ec-4e19-c561-ca315170e496"
      },
      "source": [
        "# Mounting your Google Drive to your Colab.\n",
        "from google.colab import drive\n",
        "drive.mount('/content/drive')"
      ],
      "execution_count": 1,
      "outputs": [
        {
          "output_type": "stream",
          "name": "stdout",
          "text": [
            "Mounted at /content/drive\n"
          ]
        }
      ]
    },
    {
      "cell_type": "code",
      "metadata": {
        "id": "ffM87E4GYhv2"
      },
      "source": [
        "# The tumor in the Lung PET-CT data set was segmented and will be quantified in the following steps.\n",
        "# The purpose is to quantify the tumor mass into mineable data by extracting features from the tumor.\n",
        "# The definitions of some of the features were provided in the supplementary document."
      ],
      "execution_count": null,
      "outputs": []
    },
    {
      "cell_type": "code",
      "metadata": {
        "colab": {
          "base_uri": "https://localhost:8080/"
        },
        "id": "BXr9ARXTYtnr",
        "outputId": "fae6190d-57f3-42d1-bd24-27d3eef8704e"
      },
      "source": [
        "# Installation of Radiomic package on your Colab.\n",
        "!pip install pyradiomics"
      ],
      "execution_count": 2,
      "outputs": [
        {
          "output_type": "stream",
          "name": "stdout",
          "text": [
            "Collecting pyradiomics\n",
            "  Downloading pyradiomics-3.0.1-cp37-cp37m-manylinux1_x86_64.whl (188 kB)\n",
            "\u001b[?25l\r\u001b[K     |█▊                              | 10 kB 26.7 MB/s eta 0:00:01\r\u001b[K     |███▌                            | 20 kB 29.2 MB/s eta 0:00:01\r\u001b[K     |█████▏                          | 30 kB 21.0 MB/s eta 0:00:01\r\u001b[K     |███████                         | 40 kB 17.3 MB/s eta 0:00:01\r\u001b[K     |████████▊                       | 51 kB 9.2 MB/s eta 0:00:01\r\u001b[K     |██████████▍                     | 61 kB 8.6 MB/s eta 0:00:01\r\u001b[K     |████████████▏                   | 71 kB 8.9 MB/s eta 0:00:01\r\u001b[K     |██████████████                  | 81 kB 10.0 MB/s eta 0:00:01\r\u001b[K     |███████████████▋                | 92 kB 10.4 MB/s eta 0:00:01\r\u001b[K     |█████████████████▍              | 102 kB 8.4 MB/s eta 0:00:01\r\u001b[K     |███████████████████▏            | 112 kB 8.4 MB/s eta 0:00:01\r\u001b[K     |████████████████████▉           | 122 kB 8.4 MB/s eta 0:00:01\r\u001b[K     |██████████████████████▋         | 133 kB 8.4 MB/s eta 0:00:01\r\u001b[K     |████████████████████████▍       | 143 kB 8.4 MB/s eta 0:00:01\r\u001b[K     |██████████████████████████      | 153 kB 8.4 MB/s eta 0:00:01\r\u001b[K     |███████████████████████████▉    | 163 kB 8.4 MB/s eta 0:00:01\r\u001b[K     |█████████████████████████████▋  | 174 kB 8.4 MB/s eta 0:00:01\r\u001b[K     |███████████████████████████████▎| 184 kB 8.4 MB/s eta 0:00:01\r\u001b[K     |████████████████████████████████| 188 kB 8.4 MB/s \n",
            "\u001b[?25hCollecting pykwalify>=1.6.0\n",
            "  Downloading pykwalify-1.8.0-py2.py3-none-any.whl (24 kB)\n",
            "Requirement already satisfied: six>=1.10.0 in /usr/local/lib/python3.7/dist-packages (from pyradiomics) (1.15.0)\n",
            "Requirement already satisfied: numpy>=1.9.2 in /usr/local/lib/python3.7/dist-packages (from pyradiomics) (1.19.5)\n",
            "Requirement already satisfied: PyWavelets>=0.4.0 in /usr/local/lib/python3.7/dist-packages (from pyradiomics) (1.2.0)\n",
            "Collecting SimpleITK>=0.9.1\n",
            "  Downloading SimpleITK-2.1.1-cp37-cp37m-manylinux_2_12_x86_64.manylinux2010_x86_64.whl (48.4 MB)\n",
            "\u001b[K     |████████████████████████████████| 48.4 MB 5.1 kB/s \n",
            "\u001b[?25hRequirement already satisfied: python-dateutil>=2.8.0 in /usr/local/lib/python3.7/dist-packages (from pykwalify>=1.6.0->pyradiomics) (2.8.2)\n",
            "Collecting ruamel.yaml>=0.16.0\n",
            "  Downloading ruamel.yaml-0.17.17-py3-none-any.whl (109 kB)\n",
            "\u001b[K     |████████████████████████████████| 109 kB 59.7 MB/s \n",
            "\u001b[?25hRequirement already satisfied: docopt>=0.6.2 in /usr/local/lib/python3.7/dist-packages (from pykwalify>=1.6.0->pyradiomics) (0.6.2)\n",
            "Collecting ruamel.yaml.clib>=0.1.2\n",
            "  Downloading ruamel.yaml.clib-0.2.6-cp37-cp37m-manylinux1_x86_64.whl (546 kB)\n",
            "\u001b[K     |████████████████████████████████| 546 kB 25.1 MB/s \n",
            "\u001b[?25hInstalling collected packages: ruamel.yaml.clib, ruamel.yaml, SimpleITK, pykwalify, pyradiomics\n",
            "Successfully installed SimpleITK-2.1.1 pykwalify-1.8.0 pyradiomics-3.0.1 ruamel.yaml-0.17.17 ruamel.yaml.clib-0.2.6\n"
          ]
        }
      ]
    },
    {
      "cell_type": "code",
      "metadata": {
        "id": "hHq2q_A8Yhv6"
      },
      "source": [
        "# Importing required libraries\n",
        "\n",
        "from sklearn.model_selection import train_test_split\n",
        "from radiomics import firstorder, glcm #first order statistics and gray level co-occurence matrices (glcm)\n",
        "from sklearn import metrics\n",
        "from sklearn.svm import SVC\n",
        "import SimpleITK as sitk\n",
        "import pandas as pd\n",
        "import numpy as np\n",
        "import six"
      ],
      "execution_count": 4,
      "outputs": []
    },
    {
      "cell_type": "code",
      "metadata": {
        "id": "Ium4cevhYhv8"
      },
      "source": [
        "# Reading the images along with their segmentation masks\n",
        "\n",
        "CT_Image = sitk.ReadImage('/content/drive/My Drive/Data/CT_Data.nii.gz')\n",
        "CT_Mask = sitk.ReadImage('/content/drive/My Drive/Data/CT_Mask.nii.gz') #segmentation mask\n",
        "\n",
        "PET_Image = sitk.ReadImage('/content/drive/My Drive/Data/PET_Data.nii.gz') #the same subject different modalities\n",
        "PET_Mask = sitk.ReadImage('/content/drive/My Drive/Data/PET_Mask.nii.gz')"
      ],
      "execution_count": 5,
      "outputs": []
    },
    {
      "cell_type": "markdown",
      "metadata": {
        "id": "J1VOM_92c1Tt"
      },
      "source": [
        "**Imaging biomarkers from tumour region**\n",
        "\n",
        "Next step we extract features form the target, where target is a segmented tumour. The deliniation is performed by a radiologist. We are going to evaluate the tumour in quantitative features - imaging biomarkers.\n",
        "FOr CT imgaes it is Housfield units (HU) and for PET it is metabolic activity."
      ]
    },
    {
      "cell_type": "code",
      "metadata": {
        "colab": {
          "base_uri": "https://localhost:8080/"
        },
        "id": "0zOiqb9BYhv-",
        "outputId": "e8a5eb37-a6b9-4c39-c572-951ad08ae459"
      },
      "source": [
        "# First Order Statistics Features from CT image\n",
        "\n",
        "FOS_CT = firstorder.RadiomicsFirstOrder(CT_Image, CT_Mask)\n",
        "FOS_CT.enableAllFeatures()\n",
        "FOS_CT_Features = FOS_CT.execute()\n",
        "for (key, val) in six.iteritems(FOS_CT_Features):\n",
        "  print('The value of the feature  ', key, ' is equal to:', val)"
      ],
      "execution_count": 6,
      "outputs": [
        {
          "output_type": "stream",
          "name": "stdout",
          "text": [
            "The value of the feature   10Percentile  is equal to: -513.0\n",
            "The value of the feature   90Percentile  is equal to: 64.0\n",
            "The value of the feature   Energy  is equal to: 1298192985.0\n",
            "The value of the feature   Entropy  is equal to: 4.73974457419883\n",
            "The value of the feature   InterquartileRange  is equal to: 321.0\n",
            "The value of the feature   Kurtosis  is equal to: 3.3499165072125168\n",
            "The value of the feature   Maximum  is equal to: 513.0\n",
            "The value of the feature   MeanAbsoluteDeviation  is equal to: 195.09161325988427\n",
            "The value of the feature   Mean  is equal to: -146.52185969673727\n",
            "The value of the feature   Median  is equal to: -34.0\n",
            "The value of the feature   Minimum  is equal to: -980.0\n",
            "The value of the feature   Range  is equal to: 1493.0\n",
            "The value of the feature   RobustMeanAbsoluteDeviation  is equal to: 142.1344273580915\n",
            "The value of the feature   RootMeanSquared  is equal to: 276.7563467414598\n",
            "The value of the feature   Skewness  is equal to: -1.0974796336022592\n",
            "The value of the feature   TotalEnergy  is equal to: 3714159922.5997925\n",
            "The value of the feature   Uniformity  is equal to: 0.05630889329251824\n",
            "The value of the feature   Variance  is equal to: 55125.4200926888\n"
          ]
        }
      ]
    },
    {
      "cell_type": "code",
      "metadata": {
        "colab": {
          "base_uri": "https://localhost:8080/"
        },
        "id": "uXDijhZoYhwB",
        "outputId": "7f4b0c32-af2b-4cb2-df22-647de73e459a"
      },
      "source": [
        "# First Order Statistics Features from PET image\n",
        "\n",
        "FOS_PET = firstorder.RadiomicsFirstOrder(PET_Image, PET_Mask)\n",
        "FOS_PET.enableAllFeatures()\n",
        "FOS_PET_Features = FOS_PET.execute()\n",
        "for (key, val) in six.iteritems(FOS_PET_Features):\n",
        "  print('The value of the feature  ', key, ' is equal to:', val)"
      ],
      "execution_count": 7,
      "outputs": [
        {
          "output_type": "stream",
          "name": "stdout",
          "text": [
            "The value of the feature   10Percentile  is equal to: 1402.0\n",
            "The value of the feature   90Percentile  is equal to: 15343.5\n",
            "The value of the feature   Energy  is equal to: 165775961961.0\n",
            "The value of the feature   Entropy  is equal to: 8.994573480975289\n",
            "The value of the feature   InterquartileRange  is equal to: 6744.25\n",
            "The value of the feature   Kurtosis  is equal to: 5.047895462850615\n",
            "The value of the feature   Maximum  is equal to: 32767.0\n",
            "The value of the feature   MeanAbsoluteDeviation  is equal to: 4515.242330507267\n",
            "The value of the feature   Mean  is equal to: 6709.045541706616\n",
            "The value of the feature   Median  is equal to: 4593.5\n",
            "The value of the feature   Minimum  is equal to: 214.0\n",
            "The value of the feature   Range  is equal to: 32553.0\n",
            "The value of the feature   RobustMeanAbsoluteDeviation  is equal to: 2950.6409337293276\n",
            "The value of the feature   RootMeanSquared  is equal to: 8914.63623459254\n",
            "The value of the feature   Skewness  is equal to: 1.5114199651359297\n",
            "The value of the feature   TotalEnergy  is equal to: 8249648035561.406\n",
            "The value of the feature   Uniformity  is equal to: 0.0024741485261281664\n",
            "The value of the feature   Variance  is equal to: 34459447.114416845\n"
          ]
        }
      ]
    },
    {
      "cell_type": "code",
      "metadata": {
        "colab": {
          "base_uri": "https://localhost:8080/"
        },
        "id": "X-cBLa2CYhwD",
        "outputId": "e7abd958-c38f-4bb4-9734-48d64700b291"
      },
      "source": [
        "# TODO: Can you interprete these results?\n",
        "\n",
        "print(\"The average intensity of the tumor in CT image is:\", FOS_CT_Features[\"Mean\"])\n",
        "print(\"The average intensity of the tumor in PET image is:\", FOS_PET_Features[\"Mean\"])"
      ],
      "execution_count": 8,
      "outputs": [
        {
          "output_type": "stream",
          "name": "stdout",
          "text": [
            "The average intensity of the tumor in CT image is: -146.52185969673727\n",
            "The average intensity of the tumor in PET image is: 6709.045541706616\n"
          ]
        }
      ]
    },
    {
      "cell_type": "markdown",
      "metadata": {
        "id": "uQIirnupeDwW"
      },
      "source": [
        "Mean value for CT image represents the density of the tussie\n",
        "Mean value for PET represents metabolic activity: the higher the value the higher radiotracer concentration is in the region"
      ]
    },
    {
      "cell_type": "code",
      "metadata": {
        "colab": {
          "base_uri": "https://localhost:8080/"
        },
        "id": "vNCOfxQwYhwF",
        "outputId": "6c061246-eb42-4fa5-905c-9d2d94d811d3"
      },
      "source": [
        "# Textural Features (Gray Level Co-occurrence Matrix) for CT image\n",
        "\n",
        "CT_GLCM = glcm.RadiomicsGLCM(CT_Image, CT_Mask)\n",
        "CT_GLCM.enableAllFeatures()\n",
        "CT_GLCM_Features = CT_GLCM.execute()\n",
        "for (key, val) in six.iteritems(CT_GLCM_Features):\n",
        "  print('The value of the feature  ', key, ' is equal to:', val)"
      ],
      "execution_count": 9,
      "outputs": [
        {
          "output_type": "stream",
          "name": "stderr",
          "text": [
            "GLCM is symmetrical, therefore Sum Average = 2 * Joint Average, only 1 needs to be calculated\n"
          ]
        },
        {
          "output_type": "stream",
          "name": "stdout",
          "text": [
            "The value of the feature   Autocorrelation  is equal to: 1344.3467313633894\n",
            "The value of the feature   ClusterProminence  is equal to: 272072.6182566958\n",
            "The value of the feature   ClusterShade  is equal to: -5267.609771720837\n",
            "The value of the feature   ClusterTendency  is equal to: 261.3108614526634\n",
            "The value of the feature   Contrast  is equal to: 24.61795710502916\n",
            "The value of the feature   Correlation  is equal to: 0.8190509331047975\n",
            "The value of the feature   DifferenceAverage  is equal to: 3.2737565956433015\n",
            "The value of the feature   DifferenceEntropy  is equal to: 3.260314004442552\n",
            "The value of the feature   DifferenceVariance  is equal to: 13.40197837130012\n",
            "The value of the feature   Id  is equal to: 0.408721873801729\n",
            "The value of the feature   Idm  is equal to: 0.33655436852642373\n",
            "The value of the feature   Idmn  is equal to: 0.9936583645016732\n",
            "The value of the feature   Idn  is equal to: 0.9519406922471757\n",
            "The value of the feature   Imc1  is equal to: -0.19190470583872668\n",
            "The value of the feature   Imc2  is equal to: 0.890564895550502\n",
            "The value of the feature   InverseVariance  is equal to: 0.32304797563273707\n",
            "The value of the feature   JointAverage  is equal to: 35.844716807893015\n",
            "The value of the feature   JointEnergy  is equal to: 0.009673838666316912\n",
            "The value of the feature   JointEntropy  is equal to: 8.22627327261887\n",
            "The value of the feature   MCC  is equal to: 0.8360173393132292\n",
            "The value of the feature   MaximumProbability  is equal to: 0.037684409732403515\n",
            "The value of the feature   SumAverage  is equal to: 71.68943361578604\n",
            "The value of the feature   SumEntropy  is equal to: 5.461024379289716\n",
            "The value of the feature   SumSquares  is equal to: 71.4822046394232\n"
          ]
        }
      ]
    },
    {
      "cell_type": "code",
      "metadata": {
        "colab": {
          "base_uri": "https://localhost:8080/"
        },
        "id": "bzFePHEpYhwI",
        "outputId": "0177ba08-c323-4183-da9f-430d4466ebb9"
      },
      "source": [
        "# Textural Features (Gray Level Co-occurrence Matrix) for PET image\n",
        "\n",
        "PET_GLCM = glcm.RadiomicsGLCM(PET_Image, PET_Mask)\n",
        "PET_GLCM.enableAllFeatures()\n",
        "PET_GLCM_Features = PET_GLCM.execute()\n",
        "for (key, val) in six.iteritems(PET_GLCM_Features):\n",
        "  print('The value of the feature  ', key, ' is equal to:', val)"
      ],
      "execution_count": 10,
      "outputs": [
        {
          "output_type": "stream",
          "name": "stderr",
          "text": [
            "GLCM is symmetrical, therefore Sum Average = 2 * Joint Average, only 1 needs to be calculated\n"
          ]
        },
        {
          "output_type": "stream",
          "name": "stdout",
          "text": [
            "The value of the feature   Autocorrelation  is equal to: 134423.56757161135\n",
            "The value of the feature   ClusterProminence  is equal to: 182683951404.42166\n",
            "The value of the feature   ClusterShade  is equal to: 119672692.79447362\n",
            "The value of the feature   ClusterTendency  is equal to: 205100.10540722654\n",
            "The value of the feature   Contrast  is equal to: 28172.19026335579\n",
            "The value of the feature   Correlation  is equal to: 0.759624759699868\n",
            "The value of the feature   DifferenceAverage  is equal to: 117.39309966678232\n",
            "The value of the feature   DifferenceEntropy  is equal to: 8.009994992471293\n",
            "The value of the feature   DifferenceVariance  is equal to: 13777.386324272575\n",
            "The value of the feature   Id  is equal to: 0.03836336452815974\n",
            "The value of the feature   Idm  is equal to: 0.013623099500202684\n",
            "The value of the feature   Idmn  is equal to: 0.9847331097503366\n",
            "The value of the feature   Idn  is equal to: 0.9231164819678406\n",
            "The value of the feature   Imc1  is equal to: -0.7118238186330709\n",
            "The value of the feature   Imc2  is equal to: 0.9999987754063905\n",
            "The value of the feature   InverseVariance  is equal to: 0.01379963563366605\n",
            "The value of the feature   JointAverage  is equal to: 300.1587260063851\n",
            "The value of the feature   JointEnergy  is equal to: 0.00030239333415480076\n",
            "The value of the feature   JointEntropy  is equal to: 11.705348112693908\n",
            "The value of the feature   MCC  is equal to: 0.9386933067940151\n",
            "The value of the feature   MaximumProbability  is equal to: 0.0006777151239253838\n",
            "The value of the feature   SumAverage  is equal to: 600.3174520127702\n",
            "The value of the feature   SumEntropy  is equal to: 9.67091086671308\n",
            "The value of the feature   SumSquares  is equal to: 58318.073917645626\n"
          ]
        }
      ]
    },
    {
      "cell_type": "markdown",
      "metadata": {
        "id": "JAx0oDI4YhwK"
      },
      "source": [
        "## Part2) Classification"
      ]
    },
    {
      "cell_type": "markdown",
      "metadata": {
        "id": "rlmq8FQ8YhwK"
      },
      "source": [
        "#### The tumors from 31 PET-CT images were already segmented and first order as well as textural features were already extracted and saved in excel files. We already know which of the patients survived or not. From the machine learning perspective, that means we know the outcome labels.  Now, with the extracted features and the outcome labels, we can train a classifier to predict the survival status. For this task, we will use Support Vector Machine as a learning algorithm."
      ]
    },
    {
      "cell_type": "code",
      "metadata": {
        "id": "Fh9mFSTKYhwL"
      },
      "source": [
        "# Importing the Feature set\n",
        "\n",
        "ct_features = pd.read_csv('/content/drive/My Drive/Data/ct_features.csv', header=None) \n",
        "pet_features = pd.read_csv('/content/drive/My Drive/Data/pet_features.csv', header=None) \n",
        "targets = pd.read_csv('/content/drive/My Drive/Data/labels.csv', header=None)"
      ],
      "execution_count": 11,
      "outputs": []
    },
    {
      "cell_type": "code",
      "metadata": {
        "colab": {
          "base_uri": "https://localhost:8080/"
        },
        "id": "GOln0e3WYhwN",
        "outputId": "3a1dcaf1-d009-4142-f1dc-fdabd852c144"
      },
      "source": [
        "# Normalizing the feature set\n",
        "\n",
        "x_all_ct = ct_features.values[:, :]\n",
        "x_all_ct = (x_all_ct-np.mean(x_all_ct))/np.std(x_all_ct)\n",
        "\n",
        "x_all_pet = pet_features.values[:,:]\n",
        "x_all_pet = (x_all_pet-np.mean(x_all_pet))/np.std(x_all_pet)\n",
        "\n",
        "y_all = targets.values[:,0]  # Outcome Labels\n",
        "print(y_all)"
      ],
      "execution_count": 12,
      "outputs": [
        {
          "output_type": "stream",
          "name": "stdout",
          "text": [
            "[1. 0. 1. 0. 0. 1. 0. 1. 1. 1. 1. 1. 0. 1. 1. 1. 0. 1. 0. 1. 0. 1. 1. 0.\n",
            " 0. 0. 0. 1. 1. 1. 1.]\n"
          ]
        }
      ]
    },
    {
      "cell_type": "code",
      "metadata": {
        "id": "K48Ovm-WYhwP"
      },
      "source": [
        "# Dividing the CT feature set into train and test sets\n",
        "\n",
        "X_train_CT, X_test_CT, y_train_CT, y_test_CT = train_test_split(x_all_ct, y_all, test_size=0.3, random_state=42)"
      ],
      "execution_count": 13,
      "outputs": []
    },
    {
      "cell_type": "code",
      "metadata": {
        "colab": {
          "base_uri": "https://localhost:8080/"
        },
        "id": "gtyAunIuYhwT",
        "outputId": "0a7cbb3f-fb37-4f19-aa97-1aab28003b21"
      },
      "source": [
        "# Building a classifier model with CT features\n",
        "\n",
        "Model_CT = SVC(gamma='auto')\n",
        "Model_CT.set_params(kernel='rbf').fit(X_train_CT,y_train_CT.ravel())  \n",
        "\n",
        "y_pred_CT = Model_CT.predict(X_test_CT) \n",
        "FOS_CT_Acc = metrics.accuracy_score(y_test_CT,y_pred_CT)\n",
        "print('Accuracy Score:',metrics.accuracy_score(y_test_CT,y_pred_CT))"
      ],
      "execution_count": 14,
      "outputs": [
        {
          "output_type": "stream",
          "name": "stdout",
          "text": [
            "Accuracy Score: 0.7\n"
          ]
        }
      ]
    },
    {
      "cell_type": "code",
      "metadata": {
        "id": "SSJ9zFXLYhwV"
      },
      "source": [
        "# Dividing the PET feature set into train and test sets\n",
        "X_train_PET, X_test_PET, y_train_PET, y_test_PET = train_test_split(x_all_pet, y_all, test_size=0.3, random_state=42)"
      ],
      "execution_count": 15,
      "outputs": []
    },
    {
      "cell_type": "code",
      "metadata": {
        "colab": {
          "base_uri": "https://localhost:8080/"
        },
        "id": "bUCS4bW3YhwX",
        "outputId": "add4d916-5f75-43ad-9bfa-362f78b2c9c2"
      },
      "source": [
        "# Building a classifier model with PET features\n",
        "\n",
        "Model_PET = SVC(gamma='auto') \n",
        "Model_PET.set_params(kernel='rbf').fit(X_train_PET,y_train_PET.ravel())  \n",
        "\n",
        "y_pred_PET = Model_PET.predict(X_test_PET) \n",
        "FOS_PET_Acc = metrics.accuracy_score(y_test_PET, y_pred_PET)\n",
        "print('Accuracy Score:',metrics.accuracy_score(y_test_PET,y_pred_PET))"
      ],
      "execution_count": 16,
      "outputs": [
        {
          "output_type": "stream",
          "name": "stdout",
          "text": [
            "Accuracy Score: 0.9\n"
          ]
        }
      ]
    },
    {
      "cell_type": "code",
      "metadata": {
        "id": "uKOwcPmtYhwY"
      },
      "source": [
        "# TODO\n",
        "\n",
        "# Which feature set have more prediction power? Can you explain?"
      ],
      "execution_count": null,
      "outputs": []
    },
    {
      "cell_type": "markdown",
      "metadata": {
        "id": "p01UO3lHf3ZL"
      },
      "source": [
        "Metabolic information gives more prediction power on aggressivness of the tumour"
      ]
    },
    {
      "cell_type": "code",
      "metadata": {
        "id": "QyyjfWApeane"
      },
      "source": [
        "# TODO nexr:\n",
        "# Feature set containing both PET and CT features and repeat the classification step with the combined feature set\n",
        "# How such combination affect the prediction power"
      ],
      "execution_count": null,
      "outputs": []
    },
    {
      "cell_type": "code",
      "metadata": {
        "id": "3aZS3rbWCeDl"
      },
      "source": [
        "# TODO next:\n",
        "# Random Forest with the combined feature set and compare the result against the SVM"
      ],
      "execution_count": null,
      "outputs": []
    }
  ]
}